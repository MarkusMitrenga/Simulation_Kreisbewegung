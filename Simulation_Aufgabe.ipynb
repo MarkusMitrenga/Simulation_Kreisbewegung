{
 "cells": [
  {
   "cell_type": "markdown",
   "metadata": {},
   "source": [
    "# Simulation einer Kreisbewegung"
   ]
  },
  {
   "cell_type": "markdown",
   "metadata": {},
   "source": [
    "## Importe\n",
    "\n",
    "Python-Bibliotheken, die benötigte Funktionalitäten enthalten."
   ]
  },
  {
   "cell_type": "code",
   "execution_count": 1,
   "metadata": {},
   "outputs": [],
   "source": [
    "from matplotlib import pyplot as plt\n",
    "import numpy as np"
   ]
  },
  {
   "cell_type": "markdown",
   "metadata": {},
   "source": [
    "## Startwerte\n",
    "\n",
    "Hier sollen die Startwerte zur Berechnung der Kreisbewegung eingegeben werden.\n",
    "\n",
    "<div class=\"alert alert-block alert-warning\">\n",
    "<b>Aufgabe:</b> \n",
    "    \n",
    "Geben Sie sinnvolle Startwerte für die einzlnen Variablen ein.\n",
    "</div>\n",
    "\n",
    "Geben Sie $\\omega$ in Radiant ein, die Zahl $\\pi$ erhalten Sie durch Eingabe von np.pi."
   ]
  },
  {
   "cell_type": "code",
   "execution_count": null,
   "metadata": {},
   "outputs": [],
   "source": [
    "r = 1                            # Kreisradius in m\n",
    "T = 1                            # Umlaufzeit in s\n",
    "x = -r                           # Startwert des Punktes auf de x-Achse\n",
    "y = 0                            # Startwert des Punktes auf der y-Achse\n",
    "omega =                          # Winkelgeschwindigkeit\n",
    "vx =                             # Startwert für x-Komponente der Geschwindigkeit\n",
    "vy =                             # Startwert für die y-Komponente der Geschwindigkeit\n",
    "a0 =                             # Zentripetalbeschleunigung\n",
    "dt = 0.0005                      # Intervall von Umlaufzeit"
   ]
  },
  {
   "cell_type": "markdown",
   "metadata": {},
   "source": [
    "## Definition der Bewegungsgleichungen\n",
    "<img src='kreis.png' alt='Kreisbewegung' style='width: 50%;'/>"
   ]
  },
  {
   "cell_type": "markdown",
   "metadata": {},
   "source": [
    "<div class=\"alert alert-block alert-warning\">\n",
    "<b>Aufgabe:</b> \n",
    "<ul>\n",
    "Es sollen Bewegungsgleichungen für die Kreisbewegung festgelegt werden. Stellen Sie jeweils eine Bewegungsgleichung für \n",
    "    <li> die Ortskoordinaten x und y. Zur Berechnung sollen die vorherige Ortskoordinate sowie die Geschwindigkeit vx bzw. vy und ein Zeitintervall dt verwendet werden. </li>\n",
    "    <li> die Geschwindigkeitskomponenten in x- und y-Richtung. Zur Berechnung sollen die vorherige Geschwindigkeit vx bzw. vy sowie die Beschleunigung ax bzw. ay und ein Zeitintervall dt verwendet werden. </li>\n",
    "    <li> die Komponenten der Zentripetalbeschleunigung in x- und in y-Richtung. Zur Berechnung sollen die Ortskoordinaten x und y sowie die Zentripetalbeschleunigung a0 verwendet werden. Beachten Sie, dass die Bewegungsrichtung <b>gegen den Uhrzeigersinn</b> erfolgen soll (Tipp: Wahl des Vorzeichens).</li>\n",
    "</ul>\n",
    "    \n",
    "Nutzen Sie die obige Abbildung zum Finden der Bewegungsgleichungen zur Zentripetalbeschleunigung. Blau: Auftragung der Ortskoordinaten x und y. Orange: Auftragung der x- und y-Komponente der Beschleunigung. Beachte: Der Betrag der Zentripetalbeschleunigung ist wesentlich größer als der Betrag der Ortskoordinaten.\n",
    "</div>\n",
    "\n",
    "\n",
    "Tipps zur Programmierung: \n",
    "\n",
    "* $\\sqrt(x)$ wird in Python als np.sqrt(x) geschrieben.\n",
    "* $x^{2}$ wird in Python als x**2 geschrieben.\n",
    "* $\\frac{x}{y}$ wird in Python als x/y geschrieben.\n",
    "* der Funktionswert x wird mit return x zurückgegeben.\n",
    "\n",
    "<div class=\"alert alert-block alert-warning\">\n",
    "<b>Aufgabe:</b> \n",
    "    \n",
    "Variieren Sie die Startwerte und beobachten Sie die Auswirkungen auf die Berechnung.\n",
    "</div>"
   ]
  },
  {
   "cell_type": "code",
   "execution_count": null,
   "metadata": {},
   "outputs": [],
   "source": [
    "#Funktionen\n",
    "def next_ax(x,y,a0):\n",
    "    ax_neu = \n",
    "    return ax_neu\n",
    "\n",
    "def next_ay(x,y,a0):\n",
    "    ay_neu = \n",
    "    return ay_neu\n",
    "\n",
    "def next_vx(vx,ax,dt):\n",
    "    vx_neu = \n",
    "    return vx_neu\n",
    "\n",
    "def next_vy(vy,ay,dt):\n",
    "    vy_neu = vy+ay*dt\n",
    "    return vy_neu\n",
    "\n",
    "def next_x(x,vx,dt):\n",
    "    x_neu = \n",
    "    return x_neu\n",
    "\n",
    "def next_y(y,vy,dt):\n",
    "    y_neu = \n",
    "    return y_neu"
   ]
  },
  {
   "cell_type": "markdown",
   "metadata": {},
   "source": [
    "## Initialisierung und Rechnung\n",
    "\n",
    "Die oben eingegebenen Gleichungen sollen nun zur Berechnung der Kreisbewegung herangezogen werden.\n",
    "\n",
    "### Initialisierung\n",
    "\n",
    "* Die Umlaufzeit T wird in gleiche Intervalle dt unterteilt. \n",
    "* Für jede zu berechnende Größe wird eine Liste zum Aufnehmen der Werte erstellt.\n",
    "\n",
    "\n",
    "### Berechnen\n",
    "\n",
    "* Die Berechnungen werden so oft durchlaufen, wie es Einträge in der Liste t gibt.\n",
    "* Mit Hilfe der oben erstellten Funktionen werden für jedes dt alle Werte berechnet und in der entsprechenden Liste gespeichert.\n",
    "* Die am Ende erhaltenen x- und y-Werte dienen als Ausgangspunkt für eine neue \"Berechnungsrunde\".\n",
    "\n",
    "<div class=\"alert alert-block alert-warning\">\n",
    "<b>Aufgabe:</b> \n",
    "    \n",
    "<b>Begründen</b> Sie, warum zuerst die Beschleunigung, dann die Geschwindigkeit und schliesslich die Ortskoordinaten berechnet werden müssen.\n",
    "</div>"
   ]
  },
  {
   "cell_type": "code",
   "execution_count": null,
   "metadata": {},
   "outputs": [],
   "source": [
    "#Initialisierung\n",
    "t = np.arange(0,T+dt,dt)            # Liste der Zeitpunkte zu denen alle \"Messwerte\" bestimmt werden sollen\n",
    "arr_x = []                          # Liste der berechneten x-Werte\n",
    "arr_y = []                          # Liste der berechneten y-Werte\n",
    "arr_ax = []                         # Liste der x-Komponente der Beschleunigung\n",
    "arr_ay = []                         # Liste der y-Komponente der Beschleunigung\n",
    "arr_vx = []                         # Liste der x-Komponente der Geschwindigkeit\n",
    "arr_vy = []                         # Liste der y-Komponente der Geschwindigkeit\n",
    "\n",
    "#Berechnen\n",
    "for i in t:\n",
    "    ax = next_ax(x,y,a0)            # Wert für ax mit Hilfe der obigen Gleichung berechnen\n",
    "    ay = next_ay(x,y,a0)            # Wert für ay mit Hilfe der obigen Gleichung berechnen\n",
    "    arr_ax.append(ax)               # ax und ay werden jeweils in der Liste gespeichert.\n",
    "    arr_ay.append(ay)\n",
    "    \n",
    "    vx = next_vx(vx,ax,dt)          # Entsprechendes Vorgehen für die Geschwindigkeiten.\n",
    "    vy = next_vy(vy,ay,dt)\n",
    "    arr_vx.append(vx)\n",
    "    arr_vy.append(vy)\n",
    "    \n",
    "    x_neu = next_x(x,vx,dt)         # Entsprechendes Vorgehen für die x und y-Werte\n",
    "    y_neu = next_y(y,vy,dt)\n",
    "    arr_x.append(x_neu)\n",
    "    arr_y.append(y_neu)\n",
    "    x = x_neu                       # Neu berechneter x-Wert gilt als Ausgangspunkt zur Berechnung der neuen Bschleunigung ax\n",
    "    y = y_neu                       # Neu berechneter x-Wert gilt als Ausgangspunkt zur Berechnung der neuen Bschleunigung ax"
   ]
  },
  {
   "cell_type": "markdown",
   "metadata": {},
   "source": [
    "## Visualisierung\n",
    "\n",
    "Mit Hilfe der zuvor erstellten Listen lassen sich verschiedene Diagramme zur Kreisbewegung erzeugen. Der hier stehende Python Code sollte nicht verändert werden.\n",
    "\n",
    "<div class=\"alert alert-block alert-warning\">\n",
    "<b>Aufgabe:</b> \n",
    "<ul>    \n",
    "    <li>Durch welche Funktionen lassen sich x(t), vx(t) und ax(t) beschreiben?</li>\n",
    "    <li>Durch welche Funktionen lassen sich y(t), vy(t) und ay(t) beschreiben?</li>\n",
    "    <li>Überlegen Sie, wie die Bewegungsgleichungen für Weg, Geschwindigkeit und Beschleunigung zusammenhängen. <b>Zeigen</b> Sie, dass das auch bei der Kreibewegung der Fall ist.</li>\n",
    "</ul>\n",
    "</div>"
   ]
  },
  {
   "cell_type": "code",
   "execution_count": 3,
   "metadata": {},
   "outputs": [
    {
     "ename": "NameError",
     "evalue": "name 'arr_x' is not defined",
     "output_type": "error",
     "traceback": [
      "\u001b[0;31m---------------------------------------------------------------------------\u001b[0m",
      "\u001b[0;31mNameError\u001b[0m                                 Traceback (most recent call last)",
      "\u001b[0;32m<ipython-input-3-eafbf46556cb>\u001b[0m in \u001b[0;36m<module>\u001b[0;34m\u001b[0m\n\u001b[1;32m      1\u001b[0m \u001b[0mfig\u001b[0m \u001b[0;34m=\u001b[0m \u001b[0mplt\u001b[0m\u001b[0;34m.\u001b[0m\u001b[0mfigure\u001b[0m\u001b[0;34m(\u001b[0m\u001b[0mfigsize\u001b[0m\u001b[0;34m=\u001b[0m\u001b[0;34m(\u001b[0m\u001b[0;36m15\u001b[0m\u001b[0;34m,\u001b[0m\u001b[0;36m15\u001b[0m\u001b[0;34m)\u001b[0m\u001b[0;34m)\u001b[0m                       \u001b[0;31m# Die x- und y-Koordinaten werden gegeneinander aufgetragen\u001b[0m\u001b[0;34m\u001b[0m\u001b[0m\n\u001b[1;32m      2\u001b[0m \u001b[0max1\u001b[0m \u001b[0;34m=\u001b[0m \u001b[0mfig\u001b[0m\u001b[0;34m.\u001b[0m\u001b[0madd_subplot\u001b[0m\u001b[0;34m(\u001b[0m\u001b[0;36m2\u001b[0m\u001b[0;34m,\u001b[0m \u001b[0;36m2\u001b[0m\u001b[0;34m,\u001b[0m \u001b[0;36m1\u001b[0m\u001b[0;34m)\u001b[0m\u001b[0;34m\u001b[0m\u001b[0m\n\u001b[0;32m----> 3\u001b[0;31m \u001b[0max1\u001b[0m\u001b[0;34m.\u001b[0m\u001b[0mplot\u001b[0m\u001b[0;34m(\u001b[0m\u001b[0marr_x\u001b[0m\u001b[0;34m,\u001b[0m \u001b[0marr_y\u001b[0m\u001b[0;34m,\u001b[0m \u001b[0;34m'-'\u001b[0m\u001b[0;34m)\u001b[0m\u001b[0;34m\u001b[0m\u001b[0m\n\u001b[0m\u001b[1;32m      4\u001b[0m \u001b[0max1\u001b[0m\u001b[0;34m.\u001b[0m\u001b[0mset_title\u001b[0m\u001b[0;34m(\u001b[0m\u001b[0;34m\"Kreisbewegung\"\u001b[0m\u001b[0;34m,\u001b[0m\u001b[0my\u001b[0m\u001b[0;34m=\u001b[0m\u001b[0;36m1.09\u001b[0m\u001b[0;34m,\u001b[0m \u001b[0mfontsize\u001b[0m \u001b[0;34m=\u001b[0m \u001b[0;36m15\u001b[0m\u001b[0;34m)\u001b[0m\u001b[0;34m\u001b[0m\u001b[0m\n\u001b[1;32m      5\u001b[0m \u001b[0max1\u001b[0m\u001b[0;34m.\u001b[0m\u001b[0mset_ylabel\u001b[0m\u001b[0;34m(\u001b[0m\u001b[0;34m\"y\"\u001b[0m\u001b[0;34m)\u001b[0m\u001b[0;34m\u001b[0m\u001b[0m\n",
      "\u001b[0;31mNameError\u001b[0m: name 'arr_x' is not defined"
     ]
    },
    {
     "data": {
      "image/png": "[encoded data removed]",
      "text/plain": [
       "<Figure size 1080x1080 with 1 Axes>"
      ]
     },
     "metadata": {
      "needs_background": "light"
     },
     "output_type": "display_data"
    }
   ],
   "source": [
    "fig = plt.figure(figsize=(15,15))                       # Die x- und y-Koordinaten werden gegeneinander aufgetragen\n",
    "ax1 = fig.add_subplot(2, 2, 1)\n",
    "ax1.plot(arr_x, arr_y, '-')\n",
    "ax1.set_title(\"Kreisbewegung\",y=1.09, fontsize = 15)\n",
    "ax1.set_ylabel(\"y\")\n",
    "ax1.set_xlabel(\"x\")\n",
    "ax1.grid(which='major',axis='both')\n",
    "\n",
    "ax2 = fig.add_subplot(2, 2, 2)                          # x und y werden als Funktion der Zeit aufgetragen\n",
    "ax2.plot(t, arr_x, '-', label= \"x\")\n",
    "ax2.plot(t, arr_y, '-', label = \"y\")\n",
    "ax2.set_title(\"x und y in Abh. von der Zeit\",y=1.09, fontsize = 15)\n",
    "ax2.set_ylabel(\"Auslenkung in x- und y-Richtung\")\n",
    "ax2.set_xlabel(\"t [s]\")\n",
    "ax2.grid(which='major',axis='both')\n",
    "ax2.legend()\n",
    "\n",
    "ax3 = fig.add_subplot(2, 2, 3)                         # vx und vy werden als Funktion der Zeit aufgetragen\n",
    "ax3.plot(t, arr_vx, '-', label= \"vx\")\n",
    "ax3.plot(t, arr_vy, '-', label = \"vy\")\n",
    "ax3.set_title(\"vx und vy in Abh. von der Zeit\",y=1.09, fontsize = 15)\n",
    "ax3.set_ylabel(\"Geschwindigkeitskomponenten vx und vy\")\n",
    "ax3.set_xlabel(\"t [s]\")\n",
    "ax3.grid(which='major',axis='both')\n",
    "ax3.legend()\n",
    "\n",
    "ax4 = fig.add_subplot(2, 2, 4)                        # ax und ay werden als Funktion der Zeit aufgetragen\n",
    "ax4.plot(t, arr_ax, '-', label= \"ax\")\n",
    "ax4.plot(t, arr_ay, '-', label = \"ay\")\n",
    "ax4.set_title(\"ax und ay in Abh. von der Zeit\",y=1.09, fontsize = 15)\n",
    "ax4.set_ylabel(\"Beschleunigungskomponenten ax und ay\")\n",
    "ax4.set_xlabel(\"t [s]\")\n",
    "ax4.grid(which='major',axis='both')\n",
    "ax4.legend()\n",
    "\n",
    "plt.tight_layout(pad = 3)\n",
    "plt.savefig(\"Kreisbewegung.png\")\n",
    "plt.show()"
   ]
  },
  {
   "cell_type": "markdown",
   "metadata": {},
   "source": [
    "<div class=\"alert alert-block alert-warning\">\n",
    "<b>Aufgabe:</b> \n",
    "    <b>Zeigen</b> Sie durch ein eigenes Programm, dass die Zentripetalbeschleunigung konstant ist.\n",
    "</div>"
   ]
  }
 ],
 "metadata": {
  "kernelspec": {
   "display_name": "Python 3",
   "language": "python",
   "name": "python3"
  },
  "language_info": {
   "codemirror_mode": {
    "name": "ipython",
    "version": 3
   },
   "file_extension": ".py",
   "mimetype": "text/x-python",
   "name": "python",
   "nbconvert_exporter": "python",
   "pygments_lexer": "ipython3",
   "version": "3.5.6"
  }
 },
 "nbformat": 4,
 "nbformat_minor": 2
}
